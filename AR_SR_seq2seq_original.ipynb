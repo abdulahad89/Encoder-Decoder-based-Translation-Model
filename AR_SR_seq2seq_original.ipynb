{
  "nbformat": 4,
  "nbformat_minor": 0,
  "metadata": {
    "colab": {
      "name": "AR_SR_seq2seq_original.ipynb",
      "provenance": [],
      "collapsed_sections": [],
      "machine_shape": "hm",
      "include_colab_link": true
    },
    "kernelspec": {
      "name": "python3",
      "display_name": "Python 3"
    }
  },
  "cells": [
    {
      "cell_type": "markdown",
      "metadata": {
        "id": "view-in-github",
        "colab_type": "text"
      },
      "source": [
        "<a href=\"https://colab.research.google.com/github/abdulahad89/Encoder-Decoder-based-Translation-Model/blob/main/AR_SR_seq2seq_original.ipynb\" target=\"_parent\"><img src=\"https://colab.research.google.com/assets/colab-badge.svg\" alt=\"Open In Colab\"/></a>"
      ]
    },
    {
      "cell_type": "code",
      "metadata": {
        "id": "TtHoOGfJuS-C",
        "colab": {
          "base_uri": "https://localhost:8080/"
        },
        "outputId": "c8d730f0-a161-48ea-c611-f696eabf4154"
      },
      "source": [
        "pip install AudioSegment"
      ],
      "execution_count": 1,
      "outputs": [
        {
          "output_type": "stream",
          "name": "stdout",
          "text": [
            "Collecting AudioSegment\n",
            "  Downloading audiosegment-0.23.0-py3-none-any.whl (34 kB)\n",
            "Requirement already satisfied: numpy in /usr/local/lib/python3.7/dist-packages (from AudioSegment) (1.19.5)\n",
            "Collecting webrtcvad\n",
            "  Downloading webrtcvad-2.0.10.tar.gz (66 kB)\n",
            "\u001b[?25l\r\u001b[K     |█████                           | 10 kB 31.8 MB/s eta 0:00:01\r\u001b[K     |██████████                      | 20 kB 39.8 MB/s eta 0:00:01\r\u001b[K     |██████████████▉                 | 30 kB 44.2 MB/s eta 0:00:01\r\u001b[K     |███████████████████▉            | 40 kB 50.7 MB/s eta 0:00:01\r\u001b[K     |████████████████████████▊       | 51 kB 18.4 MB/s eta 0:00:01\r\u001b[K     |█████████████████████████████▊  | 61 kB 20.5 MB/s eta 0:00:01\r\u001b[K     |████████████████████████████████| 66 kB 3.3 MB/s \n",
            "\u001b[?25hCollecting pydub\n",
            "  Downloading pydub-0.25.1-py2.py3-none-any.whl (32 kB)\n",
            "Building wheels for collected packages: webrtcvad\n",
            "  Building wheel for webrtcvad (setup.py) ... \u001b[?25l\u001b[?25hdone\n",
            "  Created wheel for webrtcvad: filename=webrtcvad-2.0.10-cp37-cp37m-linux_x86_64.whl size=72373 sha256=241f883c6d2fc35a49df0c9ac204501f08542f9ec94a7c69f1b38929e03ebe83\n",
            "  Stored in directory: /root/.cache/pip/wheels/11/f9/67/a3158d131f57e1c0a7d8d966a707d4a2fb27567a4fe47723ad\n",
            "Successfully built webrtcvad\n",
            "Installing collected packages: webrtcvad, pydub, AudioSegment\n",
            "Successfully installed AudioSegment-0.23.0 pydub-0.25.1 webrtcvad-2.0.10\n"
          ]
        }
      ]
    },
    {
      "cell_type": "code",
      "metadata": {
        "id": "785nOulGuEJd"
      },
      "source": [
        "import pandas as pd\n",
        "import os\n",
        "import librosa\n",
        "import IPython.display as ipd\n",
        "import matplotlib.pyplot as plt\n",
        "from scipy.io import wavfile\n",
        "import warnings\n",
        "import glob \n",
        "from pydub import AudioSegment"
      ],
      "execution_count": 2,
      "outputs": []
    },
    {
      "cell_type": "code",
      "metadata": {
        "id": "fL6SNz1M49bl",
        "colab": {
          "base_uri": "https://localhost:8080/"
        },
        "outputId": "ecdb3523-7baf-4eef-fdfa-95c5ea01956d"
      },
      "source": [
        "from google.colab import drive\n",
        "drive.mount('/content/drive')"
      ],
      "execution_count": 3,
      "outputs": [
        {
          "output_type": "stream",
          "name": "stdout",
          "text": [
            "Mounted at /content/drive\n"
          ]
        }
      ]
    },
    {
      "cell_type": "code",
      "metadata": {
        "id": "3rQWQNe16ZVF"
      },
      "source": [
        "data = pd.read_csv('drive/My Drive/Sajid_Project_Grading/SR/arabic/full_data.csv')"
      ],
      "execution_count": 4,
      "outputs": []
    },
    {
      "cell_type": "code",
      "metadata": {
        "colab": {
          "base_uri": "https://localhost:8080/",
          "height": 643
        },
        "id": "I_WHiA9pdwMV",
        "outputId": "012e80f6-1b39-49ac-d718-292634c2e3be"
      },
      "source": [
        "data.head(10)"
      ],
      "execution_count": 5,
      "outputs": [
        {
          "output_type": "execute_result",
          "data": {
            "text/html": [
              "<div>\n",
              "<style scoped>\n",
              "    .dataframe tbody tr th:only-of-type {\n",
              "        vertical-align: middle;\n",
              "    }\n",
              "\n",
              "    .dataframe tbody tr th {\n",
              "        vertical-align: top;\n",
              "    }\n",
              "\n",
              "    .dataframe thead th {\n",
              "        text-align: right;\n",
              "    }\n",
              "</style>\n",
              "<table border=\"1\" class=\"dataframe\">\n",
              "  <thead>\n",
              "    <tr style=\"text-align: right;\">\n",
              "      <th></th>\n",
              "      <th>Unnamed: 0</th>\n",
              "      <th>client_id</th>\n",
              "      <th>path</th>\n",
              "      <th>sentence</th>\n",
              "      <th>up_votes</th>\n",
              "      <th>down_votes</th>\n",
              "      <th>age</th>\n",
              "      <th>gender</th>\n",
              "      <th>accent</th>\n",
              "      <th>locale</th>\n",
              "      <th>segment</th>\n",
              "    </tr>\n",
              "  </thead>\n",
              "  <tbody>\n",
              "    <tr>\n",
              "      <th>0</th>\n",
              "      <td>0</td>\n",
              "      <td>e23fcbfdbd4639b11c95fb4c8fb94d4b8c576234203af2...</td>\n",
              "      <td>common_voice_ar_19321578.mp3</td>\n",
              "      <td>.أقدّر شجاعته</td>\n",
              "      <td>0</td>\n",
              "      <td>0</td>\n",
              "      <td>twenties</td>\n",
              "      <td>male</td>\n",
              "      <td>NaN</td>\n",
              "      <td>ar</td>\n",
              "      <td>NaN</td>\n",
              "    </tr>\n",
              "    <tr>\n",
              "      <th>1</th>\n",
              "      <td>1</td>\n",
              "      <td>f30a72a1cb9deeded2f85b1871b1c7bc1ba3881dd4b765...</td>\n",
              "      <td>common_voice_ar_19341226.mp3</td>\n",
              "      <td>.أعرفها</td>\n",
              "      <td>1</td>\n",
              "      <td>1</td>\n",
              "      <td>twenties</td>\n",
              "      <td>male</td>\n",
              "      <td>NaN</td>\n",
              "      <td>ar</td>\n",
              "      <td>NaN</td>\n",
              "    </tr>\n",
              "    <tr>\n",
              "      <th>2</th>\n",
              "      <td>2</td>\n",
              "      <td>6de14f28f77ba488714e21cd47dde88930a6922232b1cb...</td>\n",
              "      <td>common_voice_ar_19346566.mp3</td>\n",
              "      <td>ما الذي كنت تفعله آن ذاك ؟</td>\n",
              "      <td>1</td>\n",
              "      <td>0</td>\n",
              "      <td>twenties</td>\n",
              "      <td>female</td>\n",
              "      <td>NaN</td>\n",
              "      <td>ar</td>\n",
              "      <td>NaN</td>\n",
              "    </tr>\n",
              "    <tr>\n",
              "      <th>3</th>\n",
              "      <td>3</td>\n",
              "      <td>e23fcbfdbd4639b11c95fb4c8fb94d4b8c576234203af2...</td>\n",
              "      <td>common_voice_ar_19356833.mp3</td>\n",
              "      <td>وقع الرجل العجوز على الأرض.</td>\n",
              "      <td>1</td>\n",
              "      <td>0</td>\n",
              "      <td>twenties</td>\n",
              "      <td>male</td>\n",
              "      <td>NaN</td>\n",
              "      <td>ar</td>\n",
              "      <td>NaN</td>\n",
              "    </tr>\n",
              "    <tr>\n",
              "      <th>4</th>\n",
              "      <td>4</td>\n",
              "      <td>a03a946ee0bfa3c6f35cfa4ba7566da913ec3b828d8feb...</td>\n",
              "      <td>common_voice_ar_19376298.mp3</td>\n",
              "      <td>.يمكنها تحدث اليابانيّة</td>\n",
              "      <td>1</td>\n",
              "      <td>0</td>\n",
              "      <td>thirties</td>\n",
              "      <td>male</td>\n",
              "      <td>NaN</td>\n",
              "      <td>ar</td>\n",
              "      <td>NaN</td>\n",
              "    </tr>\n",
              "    <tr>\n",
              "      <th>5</th>\n",
              "      <td>5</td>\n",
              "      <td>f38eaaf535a8b01ee2fc6a673f91499fa59a508a3dbdda...</td>\n",
              "      <td>common_voice_ar_19384302.mp3</td>\n",
              "      <td>تتألف هذه النظرية من ثلاثة أجزاء.</td>\n",
              "      <td>0</td>\n",
              "      <td>1</td>\n",
              "      <td>thirties</td>\n",
              "      <td>male</td>\n",
              "      <td>NaN</td>\n",
              "      <td>ar</td>\n",
              "      <td>NaN</td>\n",
              "    </tr>\n",
              "    <tr>\n",
              "      <th>6</th>\n",
              "      <td>6</td>\n",
              "      <td>61ca692e975b8e4882cdfcb40d756ab2b8e9eeeb6b9fb9...</td>\n",
              "      <td>common_voice_ar_19398440.mp3</td>\n",
              "      <td>لا يمكنني إعطائك جواباً نهائياً اليوم.</td>\n",
              "      <td>1</td>\n",
              "      <td>1</td>\n",
              "      <td>NaN</td>\n",
              "      <td>NaN</td>\n",
              "      <td>NaN</td>\n",
              "      <td>ar</td>\n",
              "      <td>NaN</td>\n",
              "    </tr>\n",
              "    <tr>\n",
              "      <th>7</th>\n",
              "      <td>7</td>\n",
              "      <td>61ca692e975b8e4882cdfcb40d756ab2b8e9eeeb6b9fb9...</td>\n",
              "      <td>common_voice_ar_19408158.mp3</td>\n",
              "      <td>علمتني عمتي كيف أحضّر قهوةً لذيذة.</td>\n",
              "      <td>0</td>\n",
              "      <td>0</td>\n",
              "      <td>NaN</td>\n",
              "      <td>NaN</td>\n",
              "      <td>NaN</td>\n",
              "      <td>ar</td>\n",
              "      <td>NaN</td>\n",
              "    </tr>\n",
              "    <tr>\n",
              "      <th>8</th>\n",
              "      <td>8</td>\n",
              "      <td>61ca692e975b8e4882cdfcb40d756ab2b8e9eeeb6b9fb9...</td>\n",
              "      <td>common_voice_ar_19408245.mp3</td>\n",
              "      <td>.فبدأ الطبيب بالكشف عليها</td>\n",
              "      <td>1</td>\n",
              "      <td>0</td>\n",
              "      <td>NaN</td>\n",
              "      <td>NaN</td>\n",
              "      <td>NaN</td>\n",
              "      <td>ar</td>\n",
              "      <td>NaN</td>\n",
              "    </tr>\n",
              "    <tr>\n",
              "      <th>9</th>\n",
              "      <td>9</td>\n",
              "      <td>a4a76115535203d52f6ffd146fdec48a0363deb9e05628...</td>\n",
              "      <td>common_voice_ar_19421231.mp3</td>\n",
              "      <td>لا تبعد المحطة كثيراً عن هنا.</td>\n",
              "      <td>0</td>\n",
              "      <td>1</td>\n",
              "      <td>NaN</td>\n",
              "      <td>NaN</td>\n",
              "      <td>NaN</td>\n",
              "      <td>ar</td>\n",
              "      <td>NaN</td>\n",
              "    </tr>\n",
              "  </tbody>\n",
              "</table>\n",
              "</div>"
            ],
            "text/plain": [
              "   Unnamed: 0                                          client_id  ... locale segment\n",
              "0           0  e23fcbfdbd4639b11c95fb4c8fb94d4b8c576234203af2...  ...     ar     NaN\n",
              "1           1  f30a72a1cb9deeded2f85b1871b1c7bc1ba3881dd4b765...  ...     ar     NaN\n",
              "2           2  6de14f28f77ba488714e21cd47dde88930a6922232b1cb...  ...     ar     NaN\n",
              "3           3  e23fcbfdbd4639b11c95fb4c8fb94d4b8c576234203af2...  ...     ar     NaN\n",
              "4           4  a03a946ee0bfa3c6f35cfa4ba7566da913ec3b828d8feb...  ...     ar     NaN\n",
              "5           5  f38eaaf535a8b01ee2fc6a673f91499fa59a508a3dbdda...  ...     ar     NaN\n",
              "6           6  61ca692e975b8e4882cdfcb40d756ab2b8e9eeeb6b9fb9...  ...     ar     NaN\n",
              "7           7  61ca692e975b8e4882cdfcb40d756ab2b8e9eeeb6b9fb9...  ...     ar     NaN\n",
              "8           8  61ca692e975b8e4882cdfcb40d756ab2b8e9eeeb6b9fb9...  ...     ar     NaN\n",
              "9           9  a4a76115535203d52f6ffd146fdec48a0363deb9e05628...  ...     ar     NaN\n",
              "\n",
              "[10 rows x 11 columns]"
            ]
          },
          "metadata": {},
          "execution_count": 5
        }
      ]
    },
    {
      "cell_type": "code",
      "metadata": {
        "id": "xSaJSMxIZoWP"
      },
      "source": [
        "path_2 = 'drive/My Drive/Sajid_Project_Grading/SR/arabic/clips_wav'\n",
        "all_filenames = []\n",
        "for filename in os.listdir(path_2):\n",
        "    if filename.endswith(\".wav\"):\n",
        "        all_filenames.append([filename[:-4]+'.mp3',filename])"
      ],
      "execution_count": 6,
      "outputs": []
    },
    {
      "cell_type": "code",
      "metadata": {
        "id": "hKYGpX08cnjB",
        "colab": {
          "base_uri": "https://localhost:8080/"
        },
        "outputId": "e3d7fd4d-26d1-4fff-9d2d-2ce24dfb06ac"
      },
      "source": [
        "len(all_filenames)"
      ],
      "execution_count": 7,
      "outputs": [
        {
          "output_type": "execute_result",
          "data": {
            "text/plain": [
              "2087"
            ]
          },
          "metadata": {},
          "execution_count": 7
        }
      ]
    },
    {
      "cell_type": "code",
      "metadata": {
        "id": "pj8i80CzZtQl"
      },
      "source": [
        "file = pd.DataFrame(data = all_filenames, columns = ['path','name'] )"
      ],
      "execution_count": 8,
      "outputs": []
    },
    {
      "cell_type": "code",
      "metadata": {
        "id": "OQuhrVNCZwNZ"
      },
      "source": [
        "new_clipped = pd.merge(file,data,on = ['path'], how = 'inner')"
      ],
      "execution_count": 9,
      "outputs": []
    },
    {
      "cell_type": "code",
      "metadata": {
        "id": "0mPKWa-4cxhB",
        "colab": {
          "base_uri": "https://localhost:8080/"
        },
        "outputId": "52c5e1ac-f430-4f9f-98c4-3de1a8e2b095"
      },
      "source": [
        "len(new_clipped)"
      ],
      "execution_count": 10,
      "outputs": [
        {
          "output_type": "execute_result",
          "data": {
            "text/plain": [
              "2087"
            ]
          },
          "metadata": {},
          "execution_count": 10
        }
      ]
    },
    {
      "cell_type": "code",
      "metadata": {
        "id": "z7-RTT2tZycr",
        "colab": {
          "base_uri": "https://localhost:8080/",
          "height": 635
        },
        "outputId": "23cb05be-9215-4448-dae8-27d06dc4fdee"
      },
      "source": [
        "new_clipped "
      ],
      "execution_count": 11,
      "outputs": [
        {
          "output_type": "execute_result",
          "data": {
            "text/html": [
              "<div>\n",
              "<style scoped>\n",
              "    .dataframe tbody tr th:only-of-type {\n",
              "        vertical-align: middle;\n",
              "    }\n",
              "\n",
              "    .dataframe tbody tr th {\n",
              "        vertical-align: top;\n",
              "    }\n",
              "\n",
              "    .dataframe thead th {\n",
              "        text-align: right;\n",
              "    }\n",
              "</style>\n",
              "<table border=\"1\" class=\"dataframe\">\n",
              "  <thead>\n",
              "    <tr style=\"text-align: right;\">\n",
              "      <th></th>\n",
              "      <th>path</th>\n",
              "      <th>name</th>\n",
              "      <th>Unnamed: 0</th>\n",
              "      <th>client_id</th>\n",
              "      <th>sentence</th>\n",
              "      <th>up_votes</th>\n",
              "      <th>down_votes</th>\n",
              "      <th>age</th>\n",
              "      <th>gender</th>\n",
              "      <th>accent</th>\n",
              "      <th>locale</th>\n",
              "      <th>segment</th>\n",
              "    </tr>\n",
              "  </thead>\n",
              "  <tbody>\n",
              "    <tr>\n",
              "      <th>0</th>\n",
              "      <td>common_voice_ar_22023014.mp3</td>\n",
              "      <td>common_voice_ar_22023014.wav</td>\n",
              "      <td>4716</td>\n",
              "      <td>179de31290404c21cb681e479c76824f56b3539a400175...</td>\n",
              "      <td>.صوتها ناعم و واضح</td>\n",
              "      <td>0</td>\n",
              "      <td>0</td>\n",
              "      <td>twenties</td>\n",
              "      <td>male</td>\n",
              "      <td>NaN</td>\n",
              "      <td>ar</td>\n",
              "      <td>NaN</td>\n",
              "    </tr>\n",
              "    <tr>\n",
              "      <th>1</th>\n",
              "      <td>common_voice_ar_22023020.mp3</td>\n",
              "      <td>common_voice_ar_22023020.wav</td>\n",
              "      <td>4718</td>\n",
              "      <td>179de31290404c21cb681e479c76824f56b3539a400175...</td>\n",
              "      <td>آه ، في الواقع</td>\n",
              "      <td>0</td>\n",
              "      <td>0</td>\n",
              "      <td>twenties</td>\n",
              "      <td>male</td>\n",
              "      <td>NaN</td>\n",
              "      <td>ar</td>\n",
              "      <td>NaN</td>\n",
              "    </tr>\n",
              "    <tr>\n",
              "      <th>2</th>\n",
              "      <td>common_voice_ar_22023019.mp3</td>\n",
              "      <td>common_voice_ar_22023019.wav</td>\n",
              "      <td>4719</td>\n",
              "      <td>179de31290404c21cb681e479c76824f56b3539a400175...</td>\n",
              "      <td>أسرع يا مارتن. لقد تأخّرنا.</td>\n",
              "      <td>0</td>\n",
              "      <td>0</td>\n",
              "      <td>twenties</td>\n",
              "      <td>male</td>\n",
              "      <td>NaN</td>\n",
              "      <td>ar</td>\n",
              "      <td>NaN</td>\n",
              "    </tr>\n",
              "    <tr>\n",
              "      <th>3</th>\n",
              "      <td>common_voice_ar_22023103.mp3</td>\n",
              "      <td>common_voice_ar_22023103.wav</td>\n",
              "      <td>4720</td>\n",
              "      <td>179de31290404c21cb681e479c76824f56b3539a400175...</td>\n",
              "      <td>.تزداد الحوادث سنةً بعد سنة</td>\n",
              "      <td>0</td>\n",
              "      <td>0</td>\n",
              "      <td>twenties</td>\n",
              "      <td>male</td>\n",
              "      <td>NaN</td>\n",
              "      <td>ar</td>\n",
              "      <td>NaN</td>\n",
              "    </tr>\n",
              "    <tr>\n",
              "      <th>4</th>\n",
              "      <td>common_voice_ar_22023107.mp3</td>\n",
              "      <td>common_voice_ar_22023107.wav</td>\n",
              "      <td>4721</td>\n",
              "      <td>179de31290404c21cb681e479c76824f56b3539a400175...</td>\n",
              "      <td>.ربما ستمطر الليلة</td>\n",
              "      <td>0</td>\n",
              "      <td>0</td>\n",
              "      <td>twenties</td>\n",
              "      <td>male</td>\n",
              "      <td>NaN</td>\n",
              "      <td>ar</td>\n",
              "      <td>NaN</td>\n",
              "    </tr>\n",
              "    <tr>\n",
              "      <th>...</th>\n",
              "      <td>...</td>\n",
              "      <td>...</td>\n",
              "      <td>...</td>\n",
              "      <td>...</td>\n",
              "      <td>...</td>\n",
              "      <td>...</td>\n",
              "      <td>...</td>\n",
              "      <td>...</td>\n",
              "      <td>...</td>\n",
              "      <td>...</td>\n",
              "      <td>...</td>\n",
              "      <td>...</td>\n",
              "    </tr>\n",
              "    <tr>\n",
              "      <th>2082</th>\n",
              "      <td>common_voice_ar_21595045.mp3</td>\n",
              "      <td>common_voice_ar_21595045.wav</td>\n",
              "      <td>3711</td>\n",
              "      <td>3411d26e14d4532b4cb0d6aa9638c8c8136c2804620a55...</td>\n",
              "      <td>الحب أعمى.</td>\n",
              "      <td>0</td>\n",
              "      <td>0</td>\n",
              "      <td>thirties</td>\n",
              "      <td>male</td>\n",
              "      <td>NaN</td>\n",
              "      <td>ar</td>\n",
              "      <td>NaN</td>\n",
              "    </tr>\n",
              "    <tr>\n",
              "      <th>2083</th>\n",
              "      <td>common_voice_ar_21595048.mp3</td>\n",
              "      <td>common_voice_ar_21595048.wav</td>\n",
              "      <td>3715</td>\n",
              "      <td>3411d26e14d4532b4cb0d6aa9638c8c8136c2804620a55...</td>\n",
              "      <td>لولا نصائحك لفشلت.</td>\n",
              "      <td>0</td>\n",
              "      <td>0</td>\n",
              "      <td>thirties</td>\n",
              "      <td>male</td>\n",
              "      <td>NaN</td>\n",
              "      <td>ar</td>\n",
              "      <td>NaN</td>\n",
              "    </tr>\n",
              "    <tr>\n",
              "      <th>2084</th>\n",
              "      <td>common_voice_ar_21595046.mp3</td>\n",
              "      <td>common_voice_ar_21595046.wav</td>\n",
              "      <td>3713</td>\n",
              "      <td>3411d26e14d4532b4cb0d6aa9638c8c8136c2804620a55...</td>\n",
              "      <td>لدي القليل من المال.</td>\n",
              "      <td>0</td>\n",
              "      <td>0</td>\n",
              "      <td>thirties</td>\n",
              "      <td>male</td>\n",
              "      <td>NaN</td>\n",
              "      <td>ar</td>\n",
              "      <td>NaN</td>\n",
              "    </tr>\n",
              "    <tr>\n",
              "      <th>2085</th>\n",
              "      <td>common_voice_ar_21595049.mp3</td>\n",
              "      <td>common_voice_ar_21595049.wav</td>\n",
              "      <td>3714</td>\n",
              "      <td>3411d26e14d4532b4cb0d6aa9638c8c8136c2804620a55...</td>\n",
              "      <td>دائماً ما تتوقع حدوث المشاكل.</td>\n",
              "      <td>0</td>\n",
              "      <td>0</td>\n",
              "      <td>thirties</td>\n",
              "      <td>male</td>\n",
              "      <td>NaN</td>\n",
              "      <td>ar</td>\n",
              "      <td>NaN</td>\n",
              "    </tr>\n",
              "    <tr>\n",
              "      <th>2086</th>\n",
              "      <td>common_voice_ar_21595044.mp3</td>\n",
              "      <td>common_voice_ar_21595044.wav</td>\n",
              "      <td>3716</td>\n",
              "      <td>3411d26e14d4532b4cb0d6aa9638c8c8136c2804620a55...</td>\n",
              "      <td>! أنت ملاك</td>\n",
              "      <td>0</td>\n",
              "      <td>0</td>\n",
              "      <td>thirties</td>\n",
              "      <td>male</td>\n",
              "      <td>NaN</td>\n",
              "      <td>ar</td>\n",
              "      <td>NaN</td>\n",
              "    </tr>\n",
              "  </tbody>\n",
              "</table>\n",
              "<p>2087 rows × 12 columns</p>\n",
              "</div>"
            ],
            "text/plain": [
              "                              path                          name  ...  locale segment\n",
              "0     common_voice_ar_22023014.mp3  common_voice_ar_22023014.wav  ...      ar     NaN\n",
              "1     common_voice_ar_22023020.mp3  common_voice_ar_22023020.wav  ...      ar     NaN\n",
              "2     common_voice_ar_22023019.mp3  common_voice_ar_22023019.wav  ...      ar     NaN\n",
              "3     common_voice_ar_22023103.mp3  common_voice_ar_22023103.wav  ...      ar     NaN\n",
              "4     common_voice_ar_22023107.mp3  common_voice_ar_22023107.wav  ...      ar     NaN\n",
              "...                            ...                           ...  ...     ...     ...\n",
              "2082  common_voice_ar_21595045.mp3  common_voice_ar_21595045.wav  ...      ar     NaN\n",
              "2083  common_voice_ar_21595048.mp3  common_voice_ar_21595048.wav  ...      ar     NaN\n",
              "2084  common_voice_ar_21595046.mp3  common_voice_ar_21595046.wav  ...      ar     NaN\n",
              "2085  common_voice_ar_21595049.mp3  common_voice_ar_21595049.wav  ...      ar     NaN\n",
              "2086  common_voice_ar_21595044.mp3  common_voice_ar_21595044.wav  ...      ar     NaN\n",
              "\n",
              "[2087 rows x 12 columns]"
            ]
          },
          "metadata": {},
          "execution_count": 11
        }
      ]
    },
    {
      "cell_type": "code",
      "metadata": {
        "id": "owbHH-rgqUBD"
      },
      "source": [
        "\"\"\"aud_data = []\n",
        "path_2 = 'drive/My Drive/Sajid_Project_Grading/SR/arabic/clips_wav'\n",
        "for wav in new_clipped['name']:\n",
        "    samples , sample_rate = librosa.load(path_2 +'/'+ wav,16000) \n",
        "    samples = librosa.resample(samples, sample_rate, 8000)\n",
        "    aud_data.append(samples)\"\"\""
      ],
      "execution_count": null,
      "outputs": []
    },
    {
      "cell_type": "code",
      "metadata": {
        "id": "jowfrH-_yT6t"
      },
      "source": [
        "import numpy as np\n",
        "aud_data = []\n",
        "for wav in new_clipped['name']:\n",
        "    samples , sample_rate = librosa.load(path_2 +'/'+ wav[:-4] + '.wav',16000) \n",
        "    x = librosa.feature.mfcc(samples, sr=16000)\n",
        "    x = np.transpose(np.array(x))\n",
        "    aud_data.append(x)"
      ],
      "execution_count": null,
      "outputs": []
    },
    {
      "cell_type": "code",
      "metadata": {
        "id": "ahzJsO_SybLa"
      },
      "source": [
        "input = np.asarray(aud_data)"
      ],
      "execution_count": null,
      "outputs": []
    },
    {
      "cell_type": "code",
      "metadata": {
        "id": "r_DGWpsJyd6-"
      },
      "source": [
        "input[8].shape"
      ],
      "execution_count": null,
      "outputs": []
    },
    {
      "cell_type": "code",
      "metadata": {
        "id": "GUcCqc_5yfzQ"
      },
      "source": [
        "input"
      ],
      "execution_count": null,
      "outputs": []
    },
    {
      "cell_type": "code",
      "metadata": {
        "id": "2BGfejP40c0k"
      },
      "source": [
        "max_input_len = max(len(sen) for sen in input)"
      ],
      "execution_count": null,
      "outputs": []
    },
    {
      "cell_type": "code",
      "metadata": {
        "id": "kIS726KB0inP"
      },
      "source": [
        "max_input_len"
      ],
      "execution_count": null,
      "outputs": []
    },
    {
      "cell_type": "code",
      "metadata": {
        "id": "fUrOn6wWLUJb"
      },
      "source": [
        "print(aud_data[25])"
      ],
      "execution_count": null,
      "outputs": []
    },
    {
      "cell_type": "code",
      "metadata": {
        "id": "fIr5mSA-8EYW"
      },
      "source": [
        "import os, sys\n",
        "from tensorflow.keras.models import Model\n",
        "from tensorflow.keras.layers import Input, LSTM, GRU, Dense, Embedding\n",
        "from tensorflow.keras.preprocessing.text import Tokenizer\n",
        "from tensorflow.keras.preprocessing.sequence import pad_sequences\n",
        "from tensorflow.keras.utils import to_categorical\n",
        "import numpy as np\n",
        "import matplotlib.pyplot as plt\n",
        "import pandas as pd"
      ],
      "execution_count": null,
      "outputs": []
    },
    {
      "cell_type": "code",
      "metadata": {
        "id": "Tj83mf9c49NQ"
      },
      "source": [
        "sen_len = new_clipped['sentence'].apply(lambda x: len(x.split(' ')))\n",
        "max(sen_len)"
      ],
      "execution_count": null,
      "outputs": []
    },
    {
      "cell_type": "code",
      "metadata": {
        "id": "5lCPZs5x8EgL"
      },
      "source": [
        "BATCH_SIZE = 32\n",
        "EPOCHS = 16\n",
        "LSTM_NODES =256\n",
        "#Using only 600 out of 1087\n",
        "NUM_SENTENCES = 2087\n",
        "MAX_SENTENCE_LENGTH = max(sen_len)\n",
        "MAX_NUM_WORDS = 5000\n",
        "EMBEDDING_SIZE = 50\n"
      ],
      "execution_count": null,
      "outputs": []
    },
    {
      "cell_type": "code",
      "metadata": {
        "id": "aK36piOj8EnI"
      },
      "source": [
        "output_sentences = []\n",
        "output_sentences_inputs = []\n",
        "\n",
        "count = 0\n",
        "#Using only 600 out of 1087\n",
        "for i in range(2087):\n",
        "    count += 1\n",
        "\n",
        "    if count > NUM_SENTENCES:\n",
        "        break\n",
        "\n",
        "    output = new_clipped.iloc[i,4]\n",
        "\n",
        "    output_sentence = output + ' <eos>'\n",
        "    output_sentence_input = '<sos> ' + output\n",
        "\n",
        "    output_sentences.append(output_sentence)\n",
        "    output_sentences_inputs.append(output_sentence_input)\n"
      ],
      "execution_count": null,
      "outputs": []
    },
    {
      "cell_type": "code",
      "metadata": {
        "id": "nSkU4T3X8TZO"
      },
      "source": [
        "#Tokenizing output sequences and 1 palce shifted o/p sequences as an input to o/p \n",
        "output_tokenizer = Tokenizer(num_words=MAX_NUM_WORDS, filters='')\n",
        "output_tokenizer.fit_on_texts(output_sentences + output_sentences_inputs)\n",
        "output_integer_seq = output_tokenizer.texts_to_sequences(output_sentences)\n",
        "output_input_integer_seq = output_tokenizer.texts_to_sequences(output_sentences_inputs)\n",
        "\n",
        "word2idx_outputs = output_tokenizer.word_index\n",
        "\n",
        "num_words_output = len(word2idx_outputs) + 1\n",
        "max_out_len = max(len(sen) for sen in output_integer_seq)"
      ],
      "execution_count": null,
      "outputs": []
    },
    {
      "cell_type": "code",
      "metadata": {
        "id": "HLYTigRA8-lq"
      },
      "source": [
        "output_tokenizer.word_index"
      ],
      "execution_count": null,
      "outputs": []
    },
    {
      "cell_type": "code",
      "metadata": {
        "id": "JxNNgLvs8Tgh"
      },
      "source": [
        "#Padding of i/p, o/p, i/p to o/p sequences\n",
        "encoder_input_sequences = pad_sequences(input, maxlen=max_input_len)     #Using only 600 out of 1087\n",
        "decoder_input_sequences = pad_sequences(output_input_integer_seq, maxlen=max_out_len, padding='post')\n",
        "decoder_output_sequences = pad_sequences(output_integer_seq, maxlen=max_out_len, padding='post')"
      ],
      "execution_count": null,
      "outputs": []
    },
    {
      "cell_type": "code",
      "metadata": {
        "id": "ZnLoKzMh7tQD"
      },
      "source": [
        "#encoder_input_sequences = encoder_input_sequences.reshape(200,1,67008)"
      ],
      "execution_count": null,
      "outputs": []
    },
    {
      "cell_type": "code",
      "metadata": {
        "id": "JmxdDwYv70vj"
      },
      "source": [
        "encoder_input_sequences.shape"
      ],
      "execution_count": null,
      "outputs": []
    },
    {
      "cell_type": "code",
      "metadata": {
        "id": "69lOSWHQ8ToA"
      },
      "source": [
        "decoder_targets_one_hot = np.zeros((\n",
        "        2087,\n",
        "        max_out_len,\n",
        "        num_words_output\n",
        "    )\n",
        ")"
      ],
      "execution_count": null,
      "outputs": []
    },
    {
      "cell_type": "code",
      "metadata": {
        "id": "my0nTMfsJg5F"
      },
      "source": [
        "decoder_targets_one_hot.shape\n",
        "\n",
        "for i, d in enumerate(decoder_output_sequences):\n",
        "    for t, word in enumerate(d):\n",
        "        decoder_targets_one_hot[i, t, word] = 1"
      ],
      "execution_count": null,
      "outputs": []
    },
    {
      "cell_type": "code",
      "metadata": {
        "id": "GHB1PXs1_3zn"
      },
      "source": [
        "#encoder_inputs_placeholder = Input(shape=(161,1,max_input_len,))"
      ],
      "execution_count": null,
      "outputs": []
    },
    {
      "cell_type": "code",
      "metadata": {
        "id": "e_HICvl2AL5s"
      },
      "source": [
        "#encoder_inputs_placeholder.shape"
      ],
      "execution_count": null,
      "outputs": []
    },
    {
      "cell_type": "code",
      "metadata": {
        "id": "ls8CiXDW8Tuh"
      },
      "source": [
        "#Encoder part      \n",
        "encoder_inputs_placeholder = Input(shape=(313,20))\n",
        "#x = embedding_layer(encoder_inputs_placeholder)\n",
        "encoder = LSTM(LSTM_NODES, return_state=True)\n",
        "\n",
        "#encoder states\n",
        "encoder_outputs, h, c = encoder(encoder_inputs_placeholder)\n",
        "encoder_states = [h, c]\n"
      ],
      "execution_count": null,
      "outputs": []
    },
    {
      "cell_type": "code",
      "metadata": {
        "id": "YSulYofA9BJk"
      },
      "source": [
        "encoder_inputs_placeholder.shape"
      ],
      "execution_count": null,
      "outputs": []
    },
    {
      "cell_type": "code",
      "metadata": {
        "id": "4RZrLy-78T08"
      },
      "source": [
        "#Decoder part\n",
        "decoder_inputs_placeholder = Input(shape=(max_out_len,))\n",
        "decoder_embedding = Embedding(num_words_output, LSTM_NODES)\n",
        "decoder_inputs_x = decoder_embedding(decoder_inputs_placeholder)\n",
        "decoder_lstm = LSTM(LSTM_NODES, return_sequences=True, return_state=True)\n",
        "\n",
        "decoder_outputs, _, _ = decoder_lstm(decoder_inputs_x, initial_state=encoder_states)\n"
      ],
      "execution_count": null,
      "outputs": []
    },
    {
      "cell_type": "code",
      "metadata": {
        "id": "MEAK1qpD8T7D"
      },
      "source": [
        "#Dense layer for softmax (final layer)\n",
        "decoder_dense = Dense(num_words_output, activation='softmax')\n",
        "decoder_outputs = decoder_dense(decoder_outputs)\n",
        "\n",
        "model = Model([encoder_inputs_placeholder,\n",
        "  decoder_inputs_placeholder], decoder_outputs)\n",
        "model.compile(\n",
        "    optimizer='adam',\n",
        "    loss='categorical_crossentropy',\n",
        "    metrics=['accuracy']\n",
        ")"
      ],
      "execution_count": null,
      "outputs": []
    },
    {
      "cell_type": "code",
      "metadata": {
        "id": "ykppGkFuCccB"
      },
      "source": [
        "import tensorflow as tf\n",
        "tf.config.run_functions_eagerly(True)"
      ],
      "execution_count": null,
      "outputs": []
    },
    {
      "cell_type": "code",
      "metadata": {
        "id": "AaIwJ5Y78lFB"
      },
      "source": [
        "r = model.fit(\n",
        "    [encoder_input_sequences, decoder_input_sequences],\n",
        "    decoder_targets_one_hot,\n",
        "    batch_size=32,\n",
        "    epochs=16,\n",
        "    validation_split=0.1,\n",
        ")\n",
        "  "
      ],
      "execution_count": null,
      "outputs": []
    },
    {
      "cell_type": "code",
      "metadata": {
        "id": "TsQSyCPK7NPH"
      },
      "source": [
        "model.save('drive/My Drive/Sajid_Project_Grading/SR/model.h5')"
      ],
      "execution_count": null,
      "outputs": []
    },
    {
      "cell_type": "code",
      "metadata": {
        "id": "BIc4P9E22WV2"
      },
      "source": [
        "encoder_model = Model(encoder_inputs_placeholder, encoder_states)\n",
        "\n",
        "decoder_state_input_h = Input(shape=(LSTM_NODES,))\n",
        "decoder_state_input_c = Input(shape=(LSTM_NODES,))\n",
        "decoder_states_inputs = [decoder_state_input_h, decoder_state_input_c]\n",
        "\n",
        "decoder_inputs_single = Input(shape=(1,))\n",
        "decoder_inputs_single_x = decoder_embedding(decoder_inputs_single)\n",
        "\n",
        "decoder_outputs, h, c = decoder_lstm(decoder_inputs_single_x, initial_state=decoder_states_inputs)\n",
        "\n",
        "decoder_states = [h, c]\n",
        "decoder_outputs = decoder_dense(decoder_outputs)\n",
        "\n",
        "decoder_model = Model(\n",
        "    [decoder_inputs_single] + decoder_states_inputs,\n",
        "    [decoder_outputs] + decoder_states\n",
        ")"
      ],
      "execution_count": null,
      "outputs": []
    },
    {
      "cell_type": "code",
      "metadata": {
        "id": "Szlcbsnb2Y-a"
      },
      "source": [
        "#idx2word_input = {v:k for k, v in word2idx_inputs.items()}\n",
        "idx2word_target = {v:k for k, v in word2idx_outputs.items()}"
      ],
      "execution_count": null,
      "outputs": []
    },
    {
      "cell_type": "code",
      "metadata": {
        "id": "5Tgt_uSo2apI"
      },
      "source": [
        "def translate_sentence(input_seq):\n",
        "    states_value = encoder_model.predict(input_seq)\n",
        "    target_seq = np.zeros((1, 1))\n",
        "    target_seq[0, 0] = word2idx_outputs['<sos>']\n",
        "    eos = word2idx_outputs['<eos>']\n",
        "    output_sentence = []\n",
        "\n",
        "    for _ in range(max_out_len):\n",
        "        output_tokens, h, c = decoder_model.predict([target_seq] + states_value)\n",
        "        idx = np.argmax(output_tokens[0, 0, :])\n",
        "\n",
        "        if eos == idx:\n",
        "            break\n",
        "\n",
        "        word = ''\n",
        "\n",
        "        if idx > 0:\n",
        "            word = idx2word_target[idx]\n",
        "            output_sentence.append(word)\n",
        "\n",
        "        target_seq[0, 0] = idx\n",
        "        states_value = [h, c]\n",
        "\n",
        "    return ' '.join(output_sentence)"
      ],
      "execution_count": null,
      "outputs": []
    },
    {
      "cell_type": "code",
      "metadata": {
        "id": "6Ki9QtJe2cjS"
      },
      "source": [
        "#|TESTIMG MODEL\n",
        "i = np.random.choice(len(input))\n",
        "input_seq = encoder_input_sequences[i]\n",
        "#print(input_seq.shape)\n",
        "input_seq = input_seq.reshape(1,313,20)\n",
        "text = translate_sentence(input_seq)\n",
        "print('-')\n",
        "#print(i)\n",
        "#print('Input:', input_sentences[i])\n",
        "print('Response:', text)\n"
      ],
      "execution_count": null,
      "outputs": []
    },
    {
      "cell_type": "code",
      "metadata": {
        "id": "J6Bcx0JU2eZY"
      },
      "source": [
        "i"
      ],
      "execution_count": null,
      "outputs": []
    },
    {
      "cell_type": "code",
      "metadata": {
        "id": "eLhR0gNs2gt1"
      },
      "source": [
        "data.iloc[i,3]"
      ],
      "execution_count": null,
      "outputs": []
    },
    {
      "cell_type": "code",
      "metadata": {
        "id": "sWXsQYQSDnGa"
      },
      "source": [
        "############testing Audio ##################"
      ],
      "execution_count": null,
      "outputs": []
    },
    {
      "cell_type": "code",
      "metadata": {
        "id": "Ff43hBbEE2fk"
      },
      "source": [
        "path_test = 'drive/My Drive/Sajid_Project_Grading/SR/arabic/test_audio/output.wav'"
      ],
      "execution_count": null,
      "outputs": []
    },
    {
      "cell_type": "code",
      "metadata": {
        "id": "kFTPBtzqE3Pe"
      },
      "source": [
        "samples_test , sample_rate_test = librosa.load(path_test,16000) \n",
        "x_test = librosa.feature.mfcc(samples_test, sr=16000)\n",
        "x_test = np.array(x_test)\n",
        "input_test = np.asarray(x_test)"
      ],
      "execution_count": null,
      "outputs": []
    },
    {
      "cell_type": "code",
      "metadata": {
        "id": "zEu4Dc9LE3Xx"
      },
      "source": [
        "encoder_input_sequences_test = pad_sequences(input_test, maxlen=max_input_len)     "
      ],
      "execution_count": null,
      "outputs": []
    },
    {
      "cell_type": "code",
      "metadata": {
        "id": "Bi8GgBMvE3pA"
      },
      "source": [
        "encoder_input_sequences_test = np.transpose(encoder_input_sequences_test)"
      ],
      "execution_count": null,
      "outputs": []
    },
    {
      "cell_type": "code",
      "metadata": {
        "id": "j7KYYEebE3xV"
      },
      "source": [
        "input_seq = encoder_input_sequences_test\n",
        "#print(input_seq.shape)\n",
        "input_seq = input_seq.reshape(1,262,20)\n",
        "text = translate_sentence(input_seq)\n",
        "print('-')\n",
        "#print(i)\n",
        "#print('Input:', input_sentences[i])\n",
        "print('Response:', text)"
      ],
      "execution_count": null,
      "outputs": []
    },
    {
      "cell_type": "code",
      "metadata": {
        "id": "cW-BMPAW6S-8"
      },
      "source": [
        "!apt install libasound2-dev portaudio19-dev libportaudio2 libportaudiocpp0 ffmpeg"
      ],
      "execution_count": null,
      "outputs": []
    },
    {
      "cell_type": "code",
      "metadata": {
        "id": "8nXRfuxR6rq2"
      },
      "source": [
        "!pip install pyaudio"
      ],
      "execution_count": null,
      "outputs": []
    }
  ]
}